{
 "cells": [
  {
   "cell_type": "code",
   "execution_count": 2,
   "metadata": {},
   "outputs": [],
   "source": [
    "import requests\n",
    "from bs4 import BeautifulSoup\n",
    "import lxml\n",
    "\n",
    "html = requests.get('https://en.wikipedia.org/wiki/Stone_Age').text"
   ]
  },
  {
   "cell_type": "code",
   "execution_count": 14,
   "metadata": {},
   "outputs": [],
   "source": [
    "soup = BeautifulSoup(html, 'lxml')\n",
    "\n",
    "body = soup.find('div', id='bodyContent')"
   ]
  },
  {
   "cell_type": "code",
   "execution_count": 24,
   "metadata": {},
   "outputs": [],
   "source": [
    "imgs = len(body.find_all('img', width=lambda x: int(x) >= 200))"
   ]
  },
  {
   "cell_type": "code",
   "execution_count": 52,
   "metadata": {},
   "outputs": [
    {
     "data": {
      "text/plain": [
       "10"
      ]
     },
     "execution_count": 52,
     "metadata": {},
     "output_type": "execute_result"
    }
   ],
   "source": [
    "headers_first = body.find_all(['h1', 'h2', 'h3', 'h4', 'h5', 'h6'])\n",
    "headers_first = [header.text for header in headers_first]\n",
    "headers = []\n",
    "for i in range(len(headers_first)):\n",
    "    if headers_first[i][0] in ['E','T','C']:\n",
    "        headers.append(headers_first[i])\n",
    "        \n",
    "headers = len(headers)\n",
    "headers"
   ]
  },
  {
   "cell_type": "code",
   "execution_count": 63,
   "metadata": {},
   "outputs": [
    {
     "data": {
      "text/plain": [
       "11"
      ]
     },
     "execution_count": 63,
     "metadata": {},
     "output_type": "execute_result"
    }
   ],
   "source": [
    "all_links = body.find_all('a')\n",
    "max_count = 0\n",
    "for link in all_links:\n",
    "    current_count = 1\n",
    "    siblings = link.find_next_siblings()\n",
    "    for sibling in siblings:\n",
    "        if sibling.name == 'a':\n",
    "            current_count += 1\n",
    "            max_count = max(current_count, max_count)\n",
    "        else:\n",
    "            current_count = 0\n",
    "max_count"
   ]
  },
  {
   "cell_type": "code",
   "execution_count": 106,
   "metadata": {},
   "outputs": [
    {
     "ename": "TypeError",
     "evalue": "'str' object does not support item assignment",
     "output_type": "error",
     "traceback": [
      "\u001b[0;31m---------------------------------------------------------------------------\u001b[0m",
      "\u001b[0;31mTypeError\u001b[0m                                 Traceback (most recent call last)",
      "\u001b[0;32m<ipython-input-106-3446d6e15ea5>\u001b[0m in \u001b[0;36m<module>\u001b[0;34m\u001b[0m\n\u001b[1;32m     20\u001b[0m \u001b[0;32mfor\u001b[0m \u001b[0mvalute\u001b[0m \u001b[0;32min\u001b[0m \u001b[0mvalute_codes\u001b[0m\u001b[0;34m:\u001b[0m\u001b[0;34m\u001b[0m\u001b[0;34m\u001b[0m\u001b[0m\n\u001b[1;32m     21\u001b[0m     \u001b[0;32mif\u001b[0m \u001b[0mvalute\u001b[0m\u001b[0;34m.\u001b[0m\u001b[0mtext\u001b[0m \u001b[0;34m==\u001b[0m \u001b[0mcur_from\u001b[0m\u001b[0;34m:\u001b[0m\u001b[0;34m\u001b[0m\u001b[0;34m\u001b[0m\u001b[0m\n\u001b[0;32m---> 22\u001b[0;31m         \u001b[0mvalute\u001b[0m\u001b[0;34m.\u001b[0m\u001b[0mtext\u001b[0m\u001b[0;34m[\u001b[0m\u001b[0;34m','\u001b[0m\u001b[0;34m]\u001b[0m \u001b[0;34m=\u001b[0m \u001b[0;34m'.'\u001b[0m\u001b[0;34m\u001b[0m\u001b[0;34m\u001b[0m\u001b[0m\n\u001b[0m",
      "\u001b[0;31mTypeError\u001b[0m: 'str' object does not support item assignment"
     ]
    }
   ],
   "source": [
    "import requests\n",
    "from bs4 import BeautifulSoup\n",
    "from decimal import *\n",
    "import lxml\n",
    "\n",
    "def convert(amount, cur_from, cur_to, date, requests):\n",
    "    response = requests.get('http://www.cbr.ru/scripts/XML_daily.asp', params={'date':date})  # Использовать переданный requests\n",
    "\n",
    "    print(response)\n",
    "    \n",
    "response = requests.get('https://www.cbr.ru/scripts/XML_daily.asp', params={'date':'17/02/2005'})\n",
    "\n",
    "soup = BeautifulSoup(response.text, 'lxml')\n",
    "#print(soup.prettify())\n",
    "cur_from = 'AMD'\n",
    "cur_to = 'JPY'\n",
    "amount = Decimal(\"1000.1000\")\n",
    "valute_codes = soup.find_all('charcode')\n",
    "valute_codes = [value for value in valute_codes if value.text == cur_from or value.text == cur_to]\n",
    "for valute in valute_codes:\n",
    "    if valute.text == cur_from:\n",
    "        "
   ]
  }
 ],
 "metadata": {
  "kernelspec": {
   "display_name": "Python 3",
   "language": "python",
   "name": "python3"
  },
  "language_info": {
   "codemirror_mode": {
    "name": "ipython",
    "version": 3
   },
   "file_extension": ".py",
   "mimetype": "text/x-python",
   "name": "python",
   "nbconvert_exporter": "python",
   "pygments_lexer": "ipython3",
   "version": "3.7.5"
  }
 },
 "nbformat": 4,
 "nbformat_minor": 4
}
